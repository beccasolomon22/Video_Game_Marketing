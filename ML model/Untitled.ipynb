{
 "cells": [
  {
   "cell_type": "code",
   "execution_count": 1,
   "id": "eda1d4cd-c01d-43d7-88bc-b213d13136e7",
   "metadata": {},
   "outputs": [],
   "source": [
    "import pandas as pd\n",
    "from sklearn.model_selection import train_test_split\n",
    "from sklearn.preprocessing import LabelEncoder\n",
    "from tensorflow.keras.models import Sequential\n",
    "from tensorflow.keras.layers import Dense"
   ]
  },
  {
   "cell_type": "code",
   "execution_count": 2,
   "id": "8ebb7e4d-7d28-45b2-9033-fa225e557b61",
   "metadata": {},
   "outputs": [],
   "source": [
    "# Load the CSV data\n",
    "df = pd.read_csv('videogames_final.csv')"
   ]
  },
  {
   "cell_type": "code",
   "execution_count": 3,
   "id": "9bce07ca-0488-4ebe-ad40-f5b98e0638c1",
   "metadata": {},
   "outputs": [],
   "source": [
    "# Preprocess the data\n",
    "le = LabelEncoder()\n",
    "df['Genre'] = le.fit_transform(df['Genre'])  # Encode genre as numerical representation\n"
   ]
  },
  {
   "cell_type": "code",
   "execution_count": 4,
   "id": "591fa711-3d37-41d8-99c1-63f0aae087f9",
   "metadata": {},
   "outputs": [],
   "source": [
    "# Split the data into training and testing sets\n",
    "X = df[['Genre']].values\n",
    "y = df['NA_Sales'].values\n",
    "X_train, X_test, y_train, y_test = train_test_split(X, y, test_size=0.2, random_state=42)"
   ]
  },
  {
   "cell_type": "code",
   "execution_count": 5,
   "id": "34887c02-710e-4a8c-abc1-784c82c3477a",
   "metadata": {},
   "outputs": [],
   "source": [
    "# Build the neural network model\n",
    "model = Sequential()\n",
    "model.add(Dense(32, input_dim=1, activation='relu'))\n",
    "model.add(Dense(64, activation='relu'))\n",
    "model.add(Dense(128, activation='relu'))\n",
    "model.add(Dense(64, activation='relu'))\n",
    "model.add(Dense(32, activation='relu'))\n",
    "model.add(Dense(1, activation='linear'))"
   ]
  },
  {
   "cell_type": "code",
   "execution_count": 6,
   "id": "8170031f-ac61-4c71-b988-5882bba40d22",
   "metadata": {},
   "outputs": [],
   "source": [
    "# Compile the model\n",
    "model.compile(loss='mean_squared_error', optimizer='adam')"
   ]
  },
  {
   "cell_type": "code",
   "execution_count": 7,
   "id": "85021377-992d-41b9-90e1-89f485aef1bd",
   "metadata": {},
   "outputs": [
    {
     "name": "stdout",
     "output_type": "stream",
     "text": [
      "Epoch 1/50\n",
      "530/530 [==============================] - 1s 925us/step - loss: 0.8595\n",
      "Epoch 2/50\n",
      "530/530 [==============================] - 0s 904us/step - loss: 0.8498\n",
      "Epoch 3/50\n",
      "530/530 [==============================] - 0s 907us/step - loss: 0.8493\n",
      "Epoch 4/50\n",
      "530/530 [==============================] - 0s 872us/step - loss: 0.8487\n",
      "Epoch 5/50\n",
      "530/530 [==============================] - 0s 885us/step - loss: 0.8475\n",
      "Epoch 6/50\n",
      "530/530 [==============================] - 0s 884us/step - loss: 0.8473\n",
      "Epoch 7/50\n",
      "530/530 [==============================] - 0s 888us/step - loss: 0.8471\n",
      "Epoch 8/50\n",
      "530/530 [==============================] - 0s 902us/step - loss: 0.8465\n",
      "Epoch 9/50\n",
      "530/530 [==============================] - 0s 878us/step - loss: 0.8473\n",
      "Epoch 10/50\n",
      "530/530 [==============================] - 0s 869us/step - loss: 0.8477\n",
      "Epoch 11/50\n",
      "530/530 [==============================] - 1s 987us/step - loss: 0.8470\n",
      "Epoch 12/50\n",
      "530/530 [==============================] - 0s 867us/step - loss: 0.8465\n",
      "Epoch 13/50\n",
      "530/530 [==============================] - 0s 923us/step - loss: 0.8468\n",
      "Epoch 14/50\n",
      "530/530 [==============================] - 0s 939us/step - loss: 0.8467\n",
      "Epoch 15/50\n",
      "530/530 [==============================] - 0s 938us/step - loss: 0.8468\n",
      "Epoch 16/50\n",
      "530/530 [==============================] - 0s 877us/step - loss: 0.8474\n",
      "Epoch 17/50\n",
      "530/530 [==============================] - 0s 899us/step - loss: 0.8472\n",
      "Epoch 18/50\n",
      "530/530 [==============================] - 0s 924us/step - loss: 0.8467\n",
      "Epoch 19/50\n",
      "530/530 [==============================] - 0s 904us/step - loss: 0.8467\n",
      "Epoch 20/50\n",
      "530/530 [==============================] - 0s 889us/step - loss: 0.8464\n",
      "Epoch 21/50\n",
      "530/530 [==============================] - 0s 917us/step - loss: 0.8467\n",
      "Epoch 22/50\n",
      "530/530 [==============================] - 0s 889us/step - loss: 0.8466\n",
      "Epoch 23/50\n",
      "530/530 [==============================] - 0s 886us/step - loss: 0.8465\n",
      "Epoch 24/50\n",
      "530/530 [==============================] - 0s 887us/step - loss: 0.8467\n",
      "Epoch 25/50\n",
      "530/530 [==============================] - 0s 883us/step - loss: 0.8465\n",
      "Epoch 26/50\n",
      "530/530 [==============================] - 0s 887us/step - loss: 0.8468\n",
      "Epoch 27/50\n",
      "530/530 [==============================] - 0s 905us/step - loss: 0.8468\n",
      "Epoch 28/50\n",
      "530/530 [==============================] - 0s 896us/step - loss: 0.8465\n",
      "Epoch 29/50\n",
      "530/530 [==============================] - 0s 883us/step - loss: 0.8463\n",
      "Epoch 30/50\n",
      "530/530 [==============================] - 0s 907us/step - loss: 0.8464\n",
      "Epoch 31/50\n",
      "530/530 [==============================] - 0s 899us/step - loss: 0.8458\n",
      "Epoch 32/50\n",
      "530/530 [==============================] - 0s 908us/step - loss: 0.8464\n",
      "Epoch 33/50\n",
      "530/530 [==============================] - 0s 876us/step - loss: 0.8465\n",
      "Epoch 34/50\n",
      "530/530 [==============================] - 0s 868us/step - loss: 0.8463\n",
      "Epoch 35/50\n",
      "530/530 [==============================] - 0s 889us/step - loss: 0.8466\n",
      "Epoch 36/50\n",
      "530/530 [==============================] - 0s 937us/step - loss: 0.8465\n",
      "Epoch 37/50\n",
      "530/530 [==============================] - 0s 869us/step - loss: 0.8462\n",
      "Epoch 38/50\n",
      "530/530 [==============================] - 0s 886us/step - loss: 0.8469\n",
      "Epoch 39/50\n",
      "530/530 [==============================] - 0s 895us/step - loss: 0.8466\n",
      "Epoch 40/50\n",
      "530/530 [==============================] - 0s 875us/step - loss: 0.8464\n",
      "Epoch 41/50\n",
      "530/530 [==============================] - 0s 896us/step - loss: 0.8465\n",
      "Epoch 42/50\n",
      "530/530 [==============================] - 0s 888us/step - loss: 0.8463\n",
      "Epoch 43/50\n",
      "530/530 [==============================] - 0s 852us/step - loss: 0.8465\n",
      "Epoch 44/50\n",
      "530/530 [==============================] - 0s 853us/step - loss: 0.8465\n",
      "Epoch 45/50\n",
      "530/530 [==============================] - 0s 865us/step - loss: 0.8464\n",
      "Epoch 46/50\n",
      "530/530 [==============================] - 0s 883us/step - loss: 0.8460\n",
      "Epoch 47/50\n",
      "530/530 [==============================] - 0s 864us/step - loss: 0.8465\n",
      "Epoch 48/50\n",
      "530/530 [==============================] - 0s 862us/step - loss: 0.8467\n",
      "Epoch 49/50\n",
      "530/530 [==============================] - 0s 871us/step - loss: 0.8466\n",
      "Epoch 50/50\n",
      "530/530 [==============================] - 0s 876us/step - loss: 0.8459\n"
     ]
    },
    {
     "data": {
      "text/plain": [
       "<keras.callbacks.History at 0x268e3c2dfd0>"
      ]
     },
     "execution_count": 7,
     "metadata": {},
     "output_type": "execute_result"
    }
   ],
   "source": [
    "# Train the model\n",
    "model.fit(X_train, y_train, epochs=50, batch_size=32, verbose=1)"
   ]
  },
  {
   "cell_type": "code",
   "execution_count": 8,
   "id": "db67ba72-136a-41c1-8a98-9c1d8cf8f959",
   "metadata": {},
   "outputs": [
    {
     "name": "stdout",
     "output_type": "stream",
     "text": [
      "133/133 [==============================] - 0s 669us/step - loss: 0.5806\n",
      "Mean Squared Error: 0.5806246995925903\n"
     ]
    }
   ],
   "source": [
    "# Evaluate the model\n",
    "mse = model.evaluate(X_test, y_test)\n",
    "print('Mean Squared Error:', mse)"
   ]
  },
  {
   "cell_type": "code",
   "execution_count": 9,
   "id": "24d57bf8-1f3e-45b8-a7ce-7ab707763bab",
   "metadata": {},
   "outputs": [
    {
     "name": "stdout",
     "output_type": "stream",
     "text": [
      "1/1 [==============================] - 0s 103ms/step\n"
     ]
    }
   ],
   "source": [
    "# Make predictions for future sales\n",
    "future_genres = [0, 1, 2, 3, 4, 5, 6, 7, 8, 9, 10, 11]  # Replace with the numerical representations of genres you want to predict\n",
    "future_sales = model.predict(future_genres)"
   ]
  },
  {
   "cell_type": "code",
   "execution_count": 10,
   "id": "f0015a49-1a60-4d4e-b939-9bbb8f4af8fc",
   "metadata": {},
   "outputs": [
    {
     "name": "stdout",
     "output_type": "stream",
     "text": [
      "Genre: Action Predicted Sales: 0.31740543\n",
      "Genre: Adventure Predicted Sales: 0.11486299\n",
      "Genre: Fighting Predicted Sales: 0.32061946\n",
      "Genre: Misc Predicted Sales: 0.32335\n",
      "Genre: Platform Predicted Sales: 0.38607758\n",
      "Genre: Puzzle Predicted Sales: 0.39568877\n",
      "Genre: Racing Predicted Sales: 0.39446914\n",
      "Genre: Role-Playing Predicted Sales: 0.39366102\n",
      "Genre: Shooter Predicted Sales: 0.39565617\n",
      "Genre: Simulation Predicted Sales: 0.397452\n",
      "Genre: Sports Predicted Sales: 0.3986323\n",
      "Genre: Strategy Predicted Sales: 0.39761436\n"
     ]
    }
   ],
   "source": [
    "# Display the predicted sales for future genres\n",
    "for genre, sales in zip(future_genres, future_sales):\n",
    "    genre_name = le.inverse_transform([genre])[0]  # Decode the genre numerical representation\n",
    "    print('Genre:', genre_name, 'Predicted Sales:', sales[0])\n",
    "\n",
    "\n"
   ]
  },
  {
   "cell_type": "code",
   "execution_count": null,
   "id": "ac105d78-8198-415f-9b61-41442720466d",
   "metadata": {},
   "outputs": [],
   "source": []
  }
 ],
 "metadata": {
  "kernelspec": {
   "display_name": "Python 3 (ipykernel)",
   "language": "python",
   "name": "python3"
  },
  "language_info": {
   "codemirror_mode": {
    "name": "ipython",
    "version": 3
   },
   "file_extension": ".py",
   "mimetype": "text/x-python",
   "name": "python",
   "nbconvert_exporter": "python",
   "pygments_lexer": "ipython3",
   "version": "3.9.16"
  }
 },
 "nbformat": 4,
 "nbformat_minor": 5
}
