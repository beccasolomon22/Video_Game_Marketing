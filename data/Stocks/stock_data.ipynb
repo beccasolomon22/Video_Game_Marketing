{
 "cells": [
  {
   "cell_type": "code",
   "execution_count": 1,
   "id": "87617226-6d55-496b-b952-4b88764a74a3",
   "metadata": {},
   "outputs": [],
   "source": [
    "import pandas as pd"
   ]
  },
  {
   "cell_type": "code",
   "execution_count": 2,
   "id": "c56552de-55a3-48ab-a4a6-9a2f8bf97ad0",
   "metadata": {},
   "outputs": [],
   "source": [
    "act_blizzard = pd.read_csv('../Stocks/Activision-Blizzard_Stock.csv')\n",
    "act_blizzard.insert(act_blizzard.columns.get_loc('Date') + 1, 'TICKER', 'ATVI')\n",
    "act_blizzard.set_index('Date', inplace=True)\n",
    "act_blizzard.index = pd.to_datetime(act_blizzard.index)\n",
    "act_blizzard.to_csv('act_act_blizzard.csv')\n"
   ]
  },
  {
   "cell_type": "code",
   "execution_count": 4,
   "id": "939bcc05-1bd5-4668-8857-8d880da30f2f",
   "metadata": {},
   "outputs": [
    {
     "ename": "ValueError",
     "evalue": "cannot insert TICKER, already exists",
     "output_type": "error",
     "traceback": [
      "\u001b[1;31m---------------------------------------------------------------------------\u001b[0m",
      "\u001b[1;31mValueError\u001b[0m                                Traceback (most recent call last)",
      "Cell \u001b[1;32mIn[5], line 2\u001b[0m\n\u001b[0;32m      1\u001b[0m ea_stock \u001b[38;5;241m=\u001b[39m pd\u001b[38;5;241m.\u001b[39mread_csv(\u001b[38;5;124m'\u001b[39m\u001b[38;5;124m../Stocks/ea_Stock.csv\u001b[39m\u001b[38;5;124m'\u001b[39m)\n\u001b[1;32m----> 2\u001b[0m \u001b[43mea_stock\u001b[49m\u001b[38;5;241;43m.\u001b[39;49m\u001b[43minsert\u001b[49m\u001b[43m(\u001b[49m\u001b[43mea_stock\u001b[49m\u001b[38;5;241;43m.\u001b[39;49m\u001b[43mcolumns\u001b[49m\u001b[38;5;241;43m.\u001b[39;49m\u001b[43mget_loc\u001b[49m\u001b[43m(\u001b[49m\u001b[38;5;124;43m'\u001b[39;49m\u001b[38;5;124;43mDate\u001b[39;49m\u001b[38;5;124;43m'\u001b[39;49m\u001b[43m)\u001b[49m\u001b[43m \u001b[49m\u001b[38;5;241;43m+\u001b[39;49m\u001b[43m \u001b[49m\u001b[38;5;241;43m1\u001b[39;49m\u001b[43m,\u001b[49m\u001b[43m \u001b[49m\u001b[38;5;124;43m'\u001b[39;49m\u001b[38;5;124;43mTICKER\u001b[39;49m\u001b[38;5;124;43m'\u001b[39;49m\u001b[43m,\u001b[49m\u001b[43m \u001b[49m\u001b[38;5;124;43m'\u001b[39;49m\u001b[38;5;124;43mEA\u001b[39;49m\u001b[38;5;124;43m'\u001b[39;49m\u001b[43m)\u001b[49m\n\u001b[0;32m      3\u001b[0m ea_stock\u001b[38;5;241m.\u001b[39mset_index(\u001b[38;5;124m'\u001b[39m\u001b[38;5;124mDate\u001b[39m\u001b[38;5;124m'\u001b[39m, inplace\u001b[38;5;241m=\u001b[39m\u001b[38;5;28;01mTrue\u001b[39;00m)\n\u001b[0;32m      4\u001b[0m ea_stock\u001b[38;5;241m.\u001b[39mindex \u001b[38;5;241m=\u001b[39m pd\u001b[38;5;241m.\u001b[39mto_datetime(ea_stock\u001b[38;5;241m.\u001b[39mindex)\n",
      "File \u001b[1;32m~\\anaconda3\\envs\\dev\\lib\\site-packages\\pandas\\core\\frame.py:4817\u001b[0m, in \u001b[0;36mDataFrame.insert\u001b[1;34m(self, loc, column, value, allow_duplicates)\u001b[0m\n\u001b[0;32m   4811\u001b[0m     \u001b[38;5;28;01mraise\u001b[39;00m \u001b[38;5;167;01mValueError\u001b[39;00m(\n\u001b[0;32m   4812\u001b[0m         \u001b[38;5;124m\"\u001b[39m\u001b[38;5;124mCannot specify \u001b[39m\u001b[38;5;124m'\u001b[39m\u001b[38;5;124mallow_duplicates=True\u001b[39m\u001b[38;5;124m'\u001b[39m\u001b[38;5;124m when \u001b[39m\u001b[38;5;124m\"\u001b[39m\n\u001b[0;32m   4813\u001b[0m         \u001b[38;5;124m\"\u001b[39m\u001b[38;5;124m'\u001b[39m\u001b[38;5;124mself.flags.allows_duplicate_labels\u001b[39m\u001b[38;5;124m'\u001b[39m\u001b[38;5;124m is False.\u001b[39m\u001b[38;5;124m\"\u001b[39m\n\u001b[0;32m   4814\u001b[0m     )\n\u001b[0;32m   4815\u001b[0m \u001b[38;5;28;01mif\u001b[39;00m \u001b[38;5;129;01mnot\u001b[39;00m allow_duplicates \u001b[38;5;129;01mand\u001b[39;00m column \u001b[38;5;129;01min\u001b[39;00m \u001b[38;5;28mself\u001b[39m\u001b[38;5;241m.\u001b[39mcolumns:\n\u001b[0;32m   4816\u001b[0m     \u001b[38;5;66;03m# Should this be a different kind of error??\u001b[39;00m\n\u001b[1;32m-> 4817\u001b[0m     \u001b[38;5;28;01mraise\u001b[39;00m \u001b[38;5;167;01mValueError\u001b[39;00m(\u001b[38;5;124mf\u001b[39m\u001b[38;5;124m\"\u001b[39m\u001b[38;5;124mcannot insert \u001b[39m\u001b[38;5;132;01m{\u001b[39;00mcolumn\u001b[38;5;132;01m}\u001b[39;00m\u001b[38;5;124m, already exists\u001b[39m\u001b[38;5;124m\"\u001b[39m)\n\u001b[0;32m   4818\u001b[0m \u001b[38;5;28;01mif\u001b[39;00m \u001b[38;5;129;01mnot\u001b[39;00m \u001b[38;5;28misinstance\u001b[39m(loc, \u001b[38;5;28mint\u001b[39m):\n\u001b[0;32m   4819\u001b[0m     \u001b[38;5;28;01mraise\u001b[39;00m \u001b[38;5;167;01mTypeError\u001b[39;00m(\u001b[38;5;124m\"\u001b[39m\u001b[38;5;124mloc must be int\u001b[39m\u001b[38;5;124m\"\u001b[39m)\n",
      "\u001b[1;31mValueError\u001b[0m: cannot insert TICKER, already exists"
     ]
    }
   ],
   "source": [
    "ea_stock = pd.read_csv('../Stocks/ea_Stock.csv')\n",
    "ea_stock.insert(ea_stock.columns.get_loc('Date') + 1, 'TICKER', 'EA')\n",
    "ea_stock.set_index('Date', inplace=True)\n",
    "ea_stock.index = pd.to_datetime(ea_stock.index)\n",
    "\n",
    "ea_stock.to_csv('ea_stock.csv')"
   ]
  },
  {
   "cell_type": "code",
   "execution_count": null,
   "id": "77396f51-170e-4491-85c4-b0fa76277c88",
   "metadata": {},
   "outputs": [],
   "source": [
    "microsoft_stock = pd.read_csv('../Stocks/microsoft_Stock.csv')\n",
    "microsoft_stock.insert(microsoft_stock.columns.get_loc('Date') + 1, 'TICKER', 'MSFT')\n",
    "microsoft_stock.set_index('Date', inplace=True)\n",
    "microsoft_stock.index = pd.to_datetime(microsoft_stock.index)\n",
    "\n",
    "microsoft_stock.to_csv('microsoft_stock.csv')"
   ]
  },
  {
   "cell_type": "code",
   "execution_count": null,
   "id": "0e9b147f-834b-4dfd-a607-28e4c4a2e587",
   "metadata": {},
   "outputs": [],
   "source": [
    "nintendo_stock = pd.read_csv('../Stocks/nintendo_Stock.csv')\n",
    "nintendo_stock.insert(nintendo_stock.columns.get_loc('Date') + 1, 'TICKER', 'NTDOY')\n",
    "nintendo_stock.set_index('Date', inplace=True)\n",
    "nintendo_stock.index = pd.to_datetime(nintendo_stock.index)\n",
    "\n",
    "nintendo_stock.to_csv('nintendo_stock.csv')"
   ]
  },
  {
   "cell_type": "code",
   "execution_count": null,
   "id": "997df9d3-4cd9-4c0a-b5d8-a00b331234dd",
   "metadata": {},
   "outputs": [],
   "source": [
    "take_two_stock = pd.read_csv('../Stocks/take_two_Stock.csv')\n",
    "take_two_stock.insert(take_two_stock.columns.get_loc('Date') + 1, 'TICKER', 'TTWO')\n",
    "take_two_stock.set_index('Date', inplace=True)\n",
    "take_two_stock.index = pd.to_datetime(take_two_stock.index)\n",
    "\n",
    "take_two_stock .to_csv('take_two_stock .csv')"
   ]
  },
  {
   "cell_type": "code",
   "execution_count": null,
   "id": "452847fb-9d24-462e-a9a0-226667e0ab96",
   "metadata": {},
   "outputs": [],
   "source": [
    "tencent_stock = pd.read_csv('../Stocks/tencent_Stock.csv')\n",
    "tencent_stock.insert(tencent_stock.columns.get_loc('Date') + 1, 'TICKER', 'TCEHY')\n",
    "tencent_stock.set_index('Date', inplace=True)\n",
    "tencent_stock.index = pd.to_datetime(tencent_stock.index)\n",
    "\n",
    "tencent_stock.to_csv('tencent_stock.csv')"
   ]
  },
  {
   "cell_type": "code",
   "execution_count": null,
   "id": "b94c7260-b897-4fce-b2fd-7b98f0a7e403",
   "metadata": {},
   "outputs": [],
   "source": [
    "ubisoft_stock = pd.read_csv('../Stocks/ubisoft_Stock.csv')\n",
    "ubisoft_stock.insert(ubisoft_stock.columns.get_loc('Date') + 1, 'TICKER', 'UBSFY')\n",
    "ubisoft_stock.set_index('Date', inplace=True)\n",
    "ubisoft_stock.index = pd.to_datetime(ubisoft_stock.index)\n",
    "\n",
    "ubisoft_stock.to_csv('ubisoft_stock.csv')"
   ]
  },
  {
   "cell_type": "code",
   "execution_count": null,
   "id": "03df972c-0f8f-4e40-b1ab-3f06c61e63bd",
   "metadata": {},
   "outputs": [],
   "source": [
    "zynga_stock = pd.read_csv('../Stocks/zynga_Stock.csv')\n",
    "zynga_stock.insert(zynga_stock.columns.get_loc('Date') + 1, 'TICKER', 'ZNGA')\n",
    "zynga_stock.set_index('Date', inplace=True)\n",
    "zynga_stock.index = pd.to_datetime(zynga_stock.index)\n",
    "\n",
    "zynga_stock.to_csv('zynga_stock.csv')"
   ]
  },
  {
   "cell_type": "code",
   "execution_count": null,
   "id": "579b633a-8469-4793-8779-086aeb9de982",
   "metadata": {},
   "outputs": [],
   "source": []
  }
 ],
 "metadata": {
  "kernelspec": {
   "display_name": "Python 3 (ipykernel)",
   "language": "python",
   "name": "python3"
  },
  "language_info": {
   "codemirror_mode": {
    "name": "ipython",
    "version": 3
   },
   "file_extension": ".py",
   "mimetype": "text/x-python",
   "name": "python",
   "nbconvert_exporter": "python",
   "pygments_lexer": "ipython3",
   "version": "3.9.16"
  }
 },
 "nbformat": 4,
 "nbformat_minor": 5
}
